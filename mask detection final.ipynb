{
 "cells": [
  {
   "cell_type": "code",
   "execution_count": 1,
   "id": "38cd9e19",
   "metadata": {},
   "outputs": [
    {
     "name": "stdout",
     "output_type": "stream",
     "text": [
      "{'with mask': 0, 'without mask': 1}\n",
      "['with mask', 'without mask']\n",
      "[0, 1]\n"
     ]
    }
   ],
   "source": [
    "import cv2,os\n",
    "\n",
    "data_path=r'C:\\Users\\Dell\\Desktop\\Shojeb ML Projects\\CNN3\\dataset'\n",
    "categories=os.listdir(data_path)\n",
    "labels=[i for i in range(len(categories))]\n",
    "\n",
    "label_dict=dict(zip(categories,labels)) #empty dictionary\n",
    "\n",
    "print(label_dict)\n",
    "print(categories)\n",
    "print(labels)"
   ]
  },
  {
   "cell_type": "code",
   "execution_count": 2,
   "id": "31a5cf7d",
   "metadata": {},
   "outputs": [],
   "source": [
    "img_size=100\n",
    "data=[]\n",
    "target=[]\n",
    "\n",
    "\n",
    "for category in categories:\n",
    "    folder_path=os.path.join(data_path,category)\n",
    "    img_names=os.listdir(folder_path)\n",
    "        \n",
    "    for img_name in img_names:\n",
    "        img_path=os.path.join(folder_path,img_name)\n",
    "        img=cv2.imread(img_path)\n",
    "\n",
    "        try:\n",
    "            gray=cv2.cvtColor(img,cv2.COLOR_BGR2GRAY)           \n",
    "            #Coverting the image into gray scale\n",
    "            resized=cv2.resize(gray,(img_size,img_size))\n",
    "            #resizing the gray scale into 100x100, since we need a fixed common size for all the images in the dataset\n",
    "            data.append(resized)\n",
    "            target.append(label_dict[category])\n",
    "            #appending the image and the label(categorized) into the list (dataset)\n",
    "\n",
    "        except Exception as e:\n",
    "            print('Exception:',e)\n",
    "            #if any exception rasied, the exception will be printed here. And pass to the next image"
   ]
  },
  {
   "cell_type": "code",
   "execution_count": 3,
   "id": "1bc81851",
   "metadata": {},
   "outputs": [],
   "source": [
    "import numpy as np\n",
    "data=np.array(data)/255.0\n",
    "data=np.reshape(data,(data.shape[0],img_size,img_size,1))\n",
    "target=np.array(target)\n",
    "from keras.utils import np_utils\n",
    "new_target=np_utils.to_categorical(target)"
   ]
  },
  {
   "cell_type": "code",
   "execution_count": 4,
   "id": "9a8ffcd1",
   "metadata": {},
   "outputs": [
    {
     "data": {
      "text/plain": [
       "(1376, 2)"
      ]
     },
     "execution_count": 4,
     "metadata": {},
     "output_type": "execute_result"
    }
   ],
   "source": [
    "new_target.shape"
   ]
  },
  {
   "cell_type": "code",
   "execution_count": 9,
   "id": "a89d88c6",
   "metadata": {},
   "outputs": [],
   "source": [
    "np.save('images.npy',data)\n",
    "np.save('lables.npy',new_target)"
   ]
  },
  {
   "cell_type": "code",
   "execution_count": 14,
   "id": "f7e8a60e",
   "metadata": {},
   "outputs": [],
   "source": [
    "import numpy as np\n",
    "data=np.load(r\"C:\\Users\\Dell\\Desktop\\Shojeb ML Projects\\CNN3\\images.npy\")\n",
    "new_target=np.load(r\"C:\\Users\\Dell\\Desktop\\Shojeb ML Projects\\CNN3\\lables.npy\")"
   ]
  },
  {
   "cell_type": "code",
   "execution_count": 15,
   "id": "6503a184",
   "metadata": {},
   "outputs": [
    {
     "data": {
      "text/plain": [
       "(1376, 100, 100, 1)"
      ]
     },
     "execution_count": 15,
     "metadata": {},
     "output_type": "execute_result"
    }
   ],
   "source": [
    "data.shape"
   ]
  },
  {
   "cell_type": "code",
   "execution_count": 16,
   "id": "d92f865e",
   "metadata": {},
   "outputs": [
    {
     "data": {
      "text/plain": [
       "(100, 100, 1)"
      ]
     },
     "execution_count": 16,
     "metadata": {},
     "output_type": "execute_result"
    }
   ],
   "source": [
    "data.shape[1:]"
   ]
  },
  {
   "cell_type": "code",
   "execution_count": 17,
   "id": "634535ba",
   "metadata": {},
   "outputs": [],
   "source": [
    "from keras.models import Sequential\n",
    "from keras.layers import Dense,Activation,Flatten,Dropout\n",
    "from keras.layers import Conv2D,MaxPooling2D\n",
    "from keras.callbacks import ModelCheckpoint\n",
    "\n",
    "model=Sequential()\n",
    "\n",
    "model.add(Conv2D(200,(3,3),input_shape=data.shape[1:]))\n",
    "model.add(Activation('relu'))\n",
    "model.add(MaxPooling2D(pool_size=(2,2)))\n",
    "#The first CNN layer followed by Relu and MaxPooling layers\n",
    "\n",
    "model.add(Conv2D(100,(3,3)))\n",
    "model.add(Activation('relu'))\n",
    "model.add(MaxPooling2D(pool_size=(2,2)))\n",
    "#The second convolution layer followed by Relu and MaxPooling layers\n",
    "\n",
    "model.add(Flatten())\n",
    "model.add(Dropout(0.5))\n",
    "#Flatten layer to stack the output convolutions from second convolution layer\n",
    "model.add(Dense(50,activation='relu'))\n",
    "#Dense layer of 64 neurons\n",
    "model.add(Dense(2,activation='softmax'))\n",
    "#The Final layer with two outputs for two categories\n",
    "\n",
    "model.compile(loss='categorical_crossentropy',optimizer='adam',metrics=['accuracy'])"
   ]
  },
  {
   "cell_type": "code",
   "execution_count": 18,
   "id": "7d666972",
   "metadata": {},
   "outputs": [
    {
     "name": "stdout",
     "output_type": "stream",
     "text": [
      "Model: \"sequential\"\n",
      "_________________________________________________________________\n",
      " Layer (type)                Output Shape              Param #   \n",
      "=================================================================\n",
      " conv2d (Conv2D)             (None, 98, 98, 200)       2000      \n",
      "                                                                 \n",
      " activation (Activation)     (None, 98, 98, 200)       0         \n",
      "                                                                 \n",
      " max_pooling2d (MaxPooling2D  (None, 49, 49, 200)      0         \n",
      " )                                                               \n",
      "                                                                 \n",
      " conv2d_1 (Conv2D)           (None, 47, 47, 100)       180100    \n",
      "                                                                 \n",
      " activation_1 (Activation)   (None, 47, 47, 100)       0         \n",
      "                                                                 \n",
      " max_pooling2d_1 (MaxPooling  (None, 23, 23, 100)      0         \n",
      " 2D)                                                             \n",
      "                                                                 \n",
      " flatten (Flatten)           (None, 52900)             0         \n",
      "                                                                 \n",
      " dropout (Dropout)           (None, 52900)             0         \n",
      "                                                                 \n",
      " dense (Dense)               (None, 50)                2645050   \n",
      "                                                                 \n",
      " dense_1 (Dense)             (None, 2)                 102       \n",
      "                                                                 \n",
      "=================================================================\n",
      "Total params: 2,827,252\n",
      "Trainable params: 2,827,252\n",
      "Non-trainable params: 0\n",
      "_________________________________________________________________\n"
     ]
    }
   ],
   "source": [
    "model.summary()"
   ]
  },
  {
   "cell_type": "code",
   "execution_count": 19,
   "id": "707bc728",
   "metadata": {},
   "outputs": [],
   "source": [
    "from sklearn.model_selection import train_test_split\n",
    "train_data,test_data,train_target,test_target=train_test_split(data,new_target,test_size=0.1)"
   ]
  },
  {
   "cell_type": "code",
   "execution_count": 20,
   "id": "a7420efc",
   "metadata": {},
   "outputs": [
    {
     "data": {
      "text/plain": [
       "(1238, 100, 100, 1)"
      ]
     },
     "execution_count": 20,
     "metadata": {},
     "output_type": "execute_result"
    }
   ],
   "source": [
    "train_data.shape"
   ]
  },
  {
   "cell_type": "code",
   "execution_count": 21,
   "id": "53aaae77",
   "metadata": {},
   "outputs": [
    {
     "data": {
      "text/plain": [
       "(1238, 2)"
      ]
     },
     "execution_count": 21,
     "metadata": {},
     "output_type": "execute_result"
    }
   ],
   "source": [
    "train_target.shape"
   ]
  },
  {
   "cell_type": "code",
   "execution_count": 22,
   "id": "4c0ef326",
   "metadata": {},
   "outputs": [
    {
     "name": "stdout",
     "output_type": "stream",
     "text": [
      "Epoch 1/30\n",
      "31/31 [==============================] - ETA: 0s - loss: 0.6800 - accuracy: 0.5687"
     ]
    },
    {
     "name": "stderr",
     "output_type": "stream",
     "text": [
      "WARNING:absl:Found untraced functions such as _jit_compiled_convolution_op, _jit_compiled_convolution_op, _update_step_xla while saving (showing 3 of 3). These functions will not be directly callable after loading.\n"
     ]
    },
    {
     "name": "stdout",
     "output_type": "stream",
     "text": [
      "INFO:tensorflow:Assets written to: model-001.model\\assets\n"
     ]
    },
    {
     "name": "stderr",
     "output_type": "stream",
     "text": [
      "INFO:tensorflow:Assets written to: model-001.model\\assets\n"
     ]
    },
    {
     "name": "stdout",
     "output_type": "stream",
     "text": [
      "31/31 [==============================] - 69s 2s/step - loss: 0.6800 - accuracy: 0.5687 - val_loss: 0.5446 - val_accuracy: 0.7500\n",
      "Epoch 2/30\n",
      "31/31 [==============================] - ETA: 0s - loss: 0.5168 - accuracy: 0.7465"
     ]
    },
    {
     "name": "stderr",
     "output_type": "stream",
     "text": [
      "WARNING:absl:Found untraced functions such as _jit_compiled_convolution_op, _jit_compiled_convolution_op, _update_step_xla while saving (showing 3 of 3). These functions will not be directly callable after loading.\n"
     ]
    },
    {
     "name": "stdout",
     "output_type": "stream",
     "text": [
      "INFO:tensorflow:Assets written to: model-002.model\\assets\n"
     ]
    },
    {
     "name": "stderr",
     "output_type": "stream",
     "text": [
      "INFO:tensorflow:Assets written to: model-002.model\\assets\n"
     ]
    },
    {
     "name": "stdout",
     "output_type": "stream",
     "text": [
      "31/31 [==============================] - 63s 2s/step - loss: 0.5168 - accuracy: 0.7465 - val_loss: 0.3881 - val_accuracy: 0.8548\n",
      "Epoch 3/30\n",
      "31/31 [==============================] - ETA: 0s - loss: 0.3156 - accuracy: 0.8747"
     ]
    },
    {
     "name": "stderr",
     "output_type": "stream",
     "text": [
      "WARNING:absl:Found untraced functions such as _jit_compiled_convolution_op, _jit_compiled_convolution_op, _update_step_xla while saving (showing 3 of 3). These functions will not be directly callable after loading.\n"
     ]
    },
    {
     "name": "stdout",
     "output_type": "stream",
     "text": [
      "INFO:tensorflow:Assets written to: model-003.model\\assets\n"
     ]
    },
    {
     "name": "stderr",
     "output_type": "stream",
     "text": [
      "INFO:tensorflow:Assets written to: model-003.model\\assets\n"
     ]
    },
    {
     "name": "stdout",
     "output_type": "stream",
     "text": [
      "31/31 [==============================] - 63s 2s/step - loss: 0.3156 - accuracy: 0.8747 - val_loss: 0.3216 - val_accuracy: 0.8911\n",
      "Epoch 4/30\n",
      "31/31 [==============================] - ETA: 0s - loss: 0.2389 - accuracy: 0.9131"
     ]
    },
    {
     "name": "stderr",
     "output_type": "stream",
     "text": [
      "WARNING:absl:Found untraced functions such as _jit_compiled_convolution_op, _jit_compiled_convolution_op, _update_step_xla while saving (showing 3 of 3). These functions will not be directly callable after loading.\n"
     ]
    },
    {
     "name": "stdout",
     "output_type": "stream",
     "text": [
      "INFO:tensorflow:Assets written to: model-004.model\\assets\n"
     ]
    },
    {
     "name": "stderr",
     "output_type": "stream",
     "text": [
      "INFO:tensorflow:Assets written to: model-004.model\\assets\n"
     ]
    },
    {
     "name": "stdout",
     "output_type": "stream",
     "text": [
      "31/31 [==============================] - 63s 2s/step - loss: 0.2389 - accuracy: 0.9131 - val_loss: 0.2524 - val_accuracy: 0.9032\n",
      "Epoch 5/30\n",
      "31/31 [==============================] - ETA: 0s - loss: 0.1550 - accuracy: 0.9475"
     ]
    },
    {
     "name": "stderr",
     "output_type": "stream",
     "text": [
      "WARNING:absl:Found untraced functions such as _jit_compiled_convolution_op, _jit_compiled_convolution_op, _update_step_xla while saving (showing 3 of 3). These functions will not be directly callable after loading.\n"
     ]
    },
    {
     "name": "stdout",
     "output_type": "stream",
     "text": [
      "INFO:tensorflow:Assets written to: model-005.model\\assets\n"
     ]
    },
    {
     "name": "stderr",
     "output_type": "stream",
     "text": [
      "INFO:tensorflow:Assets written to: model-005.model\\assets\n"
     ]
    },
    {
     "name": "stdout",
     "output_type": "stream",
     "text": [
      "31/31 [==============================] - 61s 2s/step - loss: 0.1550 - accuracy: 0.9475 - val_loss: 0.2424 - val_accuracy: 0.9113\n",
      "Epoch 6/30\n",
      "31/31 [==============================] - ETA: 0s - loss: 0.1129 - accuracy: 0.9596"
     ]
    },
    {
     "name": "stderr",
     "output_type": "stream",
     "text": [
      "WARNING:absl:Found untraced functions such as _jit_compiled_convolution_op, _jit_compiled_convolution_op, _update_step_xla while saving (showing 3 of 3). These functions will not be directly callable after loading.\n"
     ]
    },
    {
     "name": "stdout",
     "output_type": "stream",
     "text": [
      "INFO:tensorflow:Assets written to: model-006.model\\assets\n"
     ]
    },
    {
     "name": "stderr",
     "output_type": "stream",
     "text": [
      "INFO:tensorflow:Assets written to: model-006.model\\assets\n"
     ]
    },
    {
     "name": "stdout",
     "output_type": "stream",
     "text": [
      "31/31 [==============================] - 61s 2s/step - loss: 0.1129 - accuracy: 0.9596 - val_loss: 0.2411 - val_accuracy: 0.8992\n",
      "Epoch 7/30\n",
      "31/31 [==============================] - ETA: 0s - loss: 0.0975 - accuracy: 0.9667"
     ]
    },
    {
     "name": "stderr",
     "output_type": "stream",
     "text": [
      "WARNING:absl:Found untraced functions such as _jit_compiled_convolution_op, _jit_compiled_convolution_op, _update_step_xla while saving (showing 3 of 3). These functions will not be directly callable after loading.\n"
     ]
    },
    {
     "name": "stdout",
     "output_type": "stream",
     "text": [
      "INFO:tensorflow:Assets written to: model-007.model\\assets\n"
     ]
    },
    {
     "name": "stderr",
     "output_type": "stream",
     "text": [
      "INFO:tensorflow:Assets written to: model-007.model\\assets\n"
     ]
    },
    {
     "name": "stdout",
     "output_type": "stream",
     "text": [
      "31/31 [==============================] - 62s 2s/step - loss: 0.0975 - accuracy: 0.9667 - val_loss: 0.1806 - val_accuracy: 0.9274\n",
      "Epoch 8/30\n",
      "31/31 [==============================] - 60s 2s/step - loss: 0.0706 - accuracy: 0.9798 - val_loss: 0.1872 - val_accuracy: 0.9355\n",
      "Epoch 9/30\n",
      "31/31 [==============================] - 60s 2s/step - loss: 0.0493 - accuracy: 0.9818 - val_loss: 0.3862 - val_accuracy: 0.8790\n",
      "Epoch 10/30\n",
      "31/31 [==============================] - 63s 2s/step - loss: 0.0889 - accuracy: 0.9626 - val_loss: 0.1974 - val_accuracy: 0.9435\n",
      "Epoch 11/30\n",
      "31/31 [==============================] - ETA: 0s - loss: 0.0637 - accuracy: 0.9838"
     ]
    },
    {
     "name": "stderr",
     "output_type": "stream",
     "text": [
      "WARNING:absl:Found untraced functions such as _jit_compiled_convolution_op, _jit_compiled_convolution_op, _update_step_xla while saving (showing 3 of 3). These functions will not be directly callable after loading.\n"
     ]
    },
    {
     "name": "stdout",
     "output_type": "stream",
     "text": [
      "INFO:tensorflow:Assets written to: model-011.model\\assets\n"
     ]
    },
    {
     "name": "stderr",
     "output_type": "stream",
     "text": [
      "INFO:tensorflow:Assets written to: model-011.model\\assets\n"
     ]
    },
    {
     "name": "stdout",
     "output_type": "stream",
     "text": [
      "31/31 [==============================] - 70s 2s/step - loss: 0.0637 - accuracy: 0.9838 - val_loss: 0.1786 - val_accuracy: 0.9315\n",
      "Epoch 12/30\n",
      "31/31 [==============================] - 66s 2s/step - loss: 0.0577 - accuracy: 0.9758 - val_loss: 0.1834 - val_accuracy: 0.9516\n",
      "Epoch 13/30\n",
      "31/31 [==============================] - 62s 2s/step - loss: 0.0416 - accuracy: 0.9848 - val_loss: 0.1896 - val_accuracy: 0.9355\n",
      "Epoch 14/30\n",
      "31/31 [==============================] - 63s 2s/step - loss: 0.0515 - accuracy: 0.9798 - val_loss: 0.4631 - val_accuracy: 0.8306\n",
      "Epoch 15/30\n",
      "31/31 [==============================] - 61s 2s/step - loss: 0.0514 - accuracy: 0.9859 - val_loss: 0.1896 - val_accuracy: 0.9435\n",
      "Epoch 16/30\n",
      "31/31 [==============================] - ETA: 0s - loss: 0.0200 - accuracy: 0.9939"
     ]
    },
    {
     "name": "stderr",
     "output_type": "stream",
     "text": [
      "WARNING:absl:Found untraced functions such as _jit_compiled_convolution_op, _jit_compiled_convolution_op, _update_step_xla while saving (showing 3 of 3). These functions will not be directly callable after loading.\n"
     ]
    },
    {
     "name": "stdout",
     "output_type": "stream",
     "text": [
      "INFO:tensorflow:Assets written to: model-016.model\\assets\n"
     ]
    },
    {
     "name": "stderr",
     "output_type": "stream",
     "text": [
      "INFO:tensorflow:Assets written to: model-016.model\\assets\n"
     ]
    },
    {
     "name": "stdout",
     "output_type": "stream",
     "text": [
      "31/31 [==============================] - 61s 2s/step - loss: 0.0200 - accuracy: 0.9939 - val_loss: 0.1536 - val_accuracy: 0.9476\n",
      "Epoch 17/30\n",
      "31/31 [==============================] - 61s 2s/step - loss: 0.0497 - accuracy: 0.9869 - val_loss: 0.1915 - val_accuracy: 0.9556\n",
      "Epoch 18/30\n",
      "31/31 [==============================] - 66s 2s/step - loss: 0.0236 - accuracy: 0.9939 - val_loss: 0.1797 - val_accuracy: 0.9597\n",
      "Epoch 19/30\n",
      "31/31 [==============================] - 63s 2s/step - loss: 0.0218 - accuracy: 0.9919 - val_loss: 0.3249 - val_accuracy: 0.9032\n",
      "Epoch 20/30\n",
      "31/31 [==============================] - 62s 2s/step - loss: 0.0401 - accuracy: 0.9879 - val_loss: 0.1913 - val_accuracy: 0.9516\n",
      "Epoch 21/30\n",
      "31/31 [==============================] - 59s 2s/step - loss: 0.0179 - accuracy: 0.9949 - val_loss: 0.1879 - val_accuracy: 0.9476\n",
      "Epoch 22/30\n",
      "31/31 [==============================] - 59s 2s/step - loss: 0.0101 - accuracy: 0.9949 - val_loss: 0.2643 - val_accuracy: 0.9315\n",
      "Epoch 23/30\n",
      "31/31 [==============================] - 60s 2s/step - loss: 0.0200 - accuracy: 0.9909 - val_loss: 0.1942 - val_accuracy: 0.9516\n",
      "Epoch 24/30\n",
      "31/31 [==============================] - 60s 2s/step - loss: 0.0229 - accuracy: 0.9929 - val_loss: 0.2082 - val_accuracy: 0.9355\n",
      "Epoch 25/30\n",
      "31/31 [==============================] - 59s 2s/step - loss: 0.0239 - accuracy: 0.9939 - val_loss: 0.2280 - val_accuracy: 0.9516\n",
      "Epoch 26/30\n",
      "31/31 [==============================] - 62s 2s/step - loss: 0.0418 - accuracy: 0.9838 - val_loss: 0.2719 - val_accuracy: 0.9274\n",
      "Epoch 27/30\n",
      "31/31 [==============================] - 60s 2s/step - loss: 0.0669 - accuracy: 0.9747 - val_loss: 0.2245 - val_accuracy: 0.9435\n",
      "Epoch 28/30\n",
      "31/31 [==============================] - 60s 2s/step - loss: 0.0200 - accuracy: 0.9960 - val_loss: 0.2303 - val_accuracy: 0.9476\n",
      "Epoch 29/30\n",
      "31/31 [==============================] - 60s 2s/step - loss: 0.0129 - accuracy: 0.9960 - val_loss: 0.2196 - val_accuracy: 0.9597\n",
      "Epoch 30/30\n",
      "31/31 [==============================] - 60s 2s/step - loss: 0.0207 - accuracy: 0.9939 - val_loss: 0.2369 - val_accuracy: 0.9355\n"
     ]
    }
   ],
   "source": [
    "checkpoint = ModelCheckpoint('model-{epoch:03d}.model',monitor='val_loss',verbose=0,save_best_only=True,mode='auto')\n",
    "history=model.fit(train_data,train_target,epochs=30,callbacks=[checkpoint],validation_split=0.2)"
   ]
  },
  {
   "cell_type": "code",
   "execution_count": 24,
   "id": "cd574024",
   "metadata": {},
   "outputs": [
    {
     "data": {
      "image/png": "[encoded data removed]",
      "text/plain": [
       "<Figure size 432x288 with 1 Axes>"
      ]
     },
     "metadata": {},
     "output_type": "display_data"
    }
   ],
   "source": [
    "from matplotlib import pyplot as plt\n",
    "\n",
    "plt.plot(history.history['loss'],'r',label='training loss')\n",
    "plt.plot(history.history['val_loss'],label='validation loss')\n",
    "plt.xlabel('# epochs')\n",
    "plt.ylabel('loss')\n",
    "plt.legend()\n",
    "plt.show()"
   ]
  },
  {
   "cell_type": "code",
   "execution_count": 25,
   "id": "fa163720",
   "metadata": {},
   "outputs": [
    {
     "data": {
      "image/png": "[encoded data removed]",
      "text/plain": [
       "<Figure size 432x288 with 1 Axes>"
      ]
     },
     "metadata": {},
     "output_type": "display_data"
    }
   ],
   "source": [
    "plt.plot(history.history['accuracy'],'r',label='training accuracy')\n",
    "plt.plot(history.history['val_accuracy'],label='validation accuracy')\n",
    "plt.xlabel('# epochs')\n",
    "plt.ylabel('loss')\n",
    "plt.legend()\n",
    "plt.show()"
   ]
  },
  {
   "cell_type": "code",
   "execution_count": 3,
   "id": "aa92e349",
   "metadata": {},
   "outputs": [],
   "source": [
    "import pickle\n",
    "pickle.dump(r\"C:\\Users\\Dell\\Desktop\\Shojeb ML Projects\\CNN3\\model-016.model\",open('mask.pkl','wb'))\n"
   ]
  },
  {
   "cell_type": "code",
   "execution_count": 1,
   "id": "3cf7199f",
   "metadata": {},
   "outputs": [
    {
     "name": "stdout",
     "output_type": "stream",
     "text": [
      "pygame 2.1.2 (SDL 2.0.18, Python 3.9.7)\n",
      "Hello from the pygame community. https://www.pygame.org/contribute.html\n",
      "1/1 [==============================] - 0s 259ms/step\n",
      "Beep\n",
      "1/1 [==============================] - 0s 76ms/step\n",
      "Beep\n",
      "1/1 [==============================] - 0s 65ms/step\n",
      "Beep\n",
      "1/1 [==============================] - 0s 62ms/step\n",
      "Beep\n",
      "1/1 [==============================] - 0s 48ms/step\n",
      "Beep\n",
      "1/1 [==============================] - 0s 50ms/step\n",
      "Beep\n",
      "1/1 [==============================] - 0s 47ms/step\n",
      "Beep\n",
      "1/1 [==============================] - 0s 54ms/step\n",
      "Beep\n",
      "1/1 [==============================] - 0s 50ms/step\n",
      "Beep\n",
      "1/1 [==============================] - 0s 49ms/step\n",
      "Beep\n",
      "1/1 [==============================] - 0s 53ms/step\n",
      "Beep\n",
      "1/1 [==============================] - 0s 49ms/step\n",
      "Beep\n",
      "1/1 [==============================] - 0s 50ms/step\n",
      "Beep\n",
      "1/1 [==============================] - 0s 48ms/step\n",
      "Beep\n",
      "1/1 [==============================] - 0s 49ms/step\n",
      "Beep\n",
      "1/1 [==============================] - 0s 48ms/step\n",
      "Beep\n",
      "1/1 [==============================] - 0s 48ms/step\n",
      "Beep\n",
      "1/1 [==============================] - 0s 48ms/step\n",
      "Beep\n",
      "1/1 [==============================] - 0s 49ms/step\n",
      "Beep\n",
      "1/1 [==============================] - 0s 48ms/step\n",
      "Beep\n",
      "1/1 [==============================] - 0s 47ms/step\n",
      "Beep\n",
      "1/1 [==============================] - 0s 48ms/step\n",
      "Beep\n",
      "1/1 [==============================] - 0s 48ms/step\n",
      "Beep\n",
      "1/1 [==============================] - 0s 48ms/step\n",
      "Beep\n",
      "1/1 [==============================] - 0s 46ms/step\n",
      "Beep\n",
      "1/1 [==============================] - 0s 48ms/step\n",
      "Beep\n",
      "1/1 [==============================] - 0s 47ms/step\n",
      "Beep\n",
      "1/1 [==============================] - 0s 49ms/step\n",
      "Beep\n",
      "1/1 [==============================] - 0s 48ms/step\n",
      "Beep\n",
      "1/1 [==============================] - 0s 48ms/step\n",
      "Beep\n",
      "1/1 [==============================] - 0s 48ms/step\n",
      "Beep\n",
      "1/1 [==============================] - 0s 62ms/step\n",
      "Beep\n",
      "1/1 [==============================] - 0s 58ms/step\n",
      "Beep\n",
      "1/1 [==============================] - 0s 61ms/step\n",
      "Beep\n",
      "1/1 [==============================] - 0s 67ms/step\n",
      "Beep\n",
      "1/1 [==============================] - 0s 53ms/step\n",
      "Beep\n",
      "1/1 [==============================] - 0s 54ms/step\n",
      "Beep\n",
      "1/1 [==============================] - 0s 53ms/step\n",
      "Beep\n",
      "1/1 [==============================] - 0s 54ms/step\n",
      "Beep\n",
      "1/1 [==============================] - 0s 48ms/step\n",
      "Beep\n",
      "1/1 [==============================] - 0s 53ms/step\n",
      "Beep\n",
      "1/1 [==============================] - 0s 52ms/step\n",
      "Beep\n",
      "1/1 [==============================] - 0s 65ms/step\n",
      "Beep\n",
      "1/1 [==============================] - 0s 54ms/step\n",
      "Beep\n",
      "1/1 [==============================] - 0s 48ms/step\n",
      "Beep\n",
      "1/1 [==============================] - 0s 49ms/step\n",
      "Beep\n",
      "1/1 [==============================] - 0s 47ms/step\n",
      "Beep\n",
      "1/1 [==============================] - 0s 48ms/step\n",
      "Beep\n",
      "1/1 [==============================] - 0s 46ms/step\n",
      "Beep\n",
      "1/1 [==============================] - 0s 49ms/step\n",
      "Beep\n",
      "1/1 [==============================] - 0s 52ms/step\n",
      "Beep\n",
      "1/1 [==============================] - 0s 49ms/step\n",
      "Beep\n",
      "1/1 [==============================] - 0s 62ms/step\n",
      "Beep\n",
      "1/1 [==============================] - 0s 58ms/step\n",
      "Beep\n",
      "1/1 [==============================] - 0s 47ms/step\n",
      "Beep\n",
      "1/1 [==============================] - 0s 49ms/step\n",
      "Beep\n",
      "1/1 [==============================] - 0s 49ms/step\n",
      "Beep\n",
      "1/1 [==============================] - 0s 50ms/step\n",
      "Beep\n",
      "1/1 [==============================] - 0s 52ms/step\n",
      "Beep\n",
      "1/1 [==============================] - 0s 49ms/step\n",
      "Beep\n",
      "1/1 [==============================] - 0s 49ms/step\n",
      "Beep\n",
      "1/1 [==============================] - 0s 47ms/step\n",
      "Beep\n",
      "1/1 [==============================] - 0s 48ms/step\n",
      "Beep\n",
      "1/1 [==============================] - 0s 49ms/step\n",
      "Beep\n",
      "1/1 [==============================] - 0s 47ms/step\n",
      "Beep\n",
      "1/1 [==============================] - 0s 49ms/step\n",
      "Beep\n",
      "1/1 [==============================] - 0s 48ms/step\n",
      "Beep\n",
      "1/1 [==============================] - 0s 52ms/step\n",
      "Beep\n",
      "1/1 [==============================] - 0s 47ms/step\n",
      "Beep\n",
      "1/1 [==============================] - 0s 48ms/step\n",
      "Beep\n",
      "1/1 [==============================] - 0s 48ms/step\n",
      "Beep\n",
      "1/1 [==============================] - 0s 49ms/step\n",
      "Beep\n",
      "1/1 [==============================] - 0s 49ms/step\n",
      "Beep\n",
      "1/1 [==============================] - 0s 48ms/step\n",
      "Beep\n",
      "1/1 [==============================] - 0s 52ms/step\n",
      "Beep\n",
      "1/1 [==============================] - 0s 47ms/step\n",
      "Beep\n",
      "1/1 [==============================] - 0s 47ms/step\n",
      "Beep\n",
      "1/1 [==============================] - 0s 49ms/step\n",
      "Beep\n",
      "1/1 [==============================] - 0s 48ms/step\n",
      "Beep\n",
      "1/1 [==============================] - 0s 49ms/step\n",
      "Beep\n",
      "1/1 [==============================] - 0s 50ms/step\n",
      "Beep\n",
      "1/1 [==============================] - 0s 48ms/step\n",
      "Beep\n",
      "1/1 [==============================] - 0s 48ms/step\n",
      "Beep\n",
      "1/1 [==============================] - 0s 48ms/step\n",
      "Beep\n",
      "1/1 [==============================] - 0s 47ms/step\n",
      "Beep\n",
      "1/1 [==============================] - 0s 49ms/step\n",
      "Beep\n",
      "1/1 [==============================] - 0s 49ms/step\n",
      "Beep\n",
      "1/1 [==============================] - 0s 47ms/step\n",
      "Beep\n",
      "1/1 [==============================] - 0s 50ms/step\n",
      "No Beep\n",
      "1/1 [==============================] - 0s 50ms/step\n",
      "No Beep\n",
      "1/1 [==============================] - 0s 47ms/step\n",
      "Beep\n",
      "1/1 [==============================] - 0s 48ms/step\n",
      "No Beep\n",
      "1/1 [==============================] - 0s 48ms/step\n",
      "No Beep\n",
      "1/1 [==============================] - 0s 47ms/step\n",
      "No Beep\n",
      "1/1 [==============================] - 0s 49ms/step\n",
      "No Beep\n",
      "1/1 [==============================] - 0s 48ms/step\n",
      "No Beep\n",
      "1/1 [==============================] - 0s 50ms/step\n",
      "No Beep\n",
      "1/1 [==============================] - 0s 48ms/step\n",
      "No Beep\n",
      "1/1 [==============================] - 0s 48ms/step\n",
      "No Beep\n",
      "1/1 [==============================] - 0s 50ms/step\n",
      "No Beep\n",
      "1/1 [==============================] - 0s 50ms/step\n",
      "No Beep\n",
      "1/1 [==============================] - 0s 48ms/step\n",
      "No Beep\n",
      "1/1 [==============================] - 0s 48ms/step\n",
      "No Beep\n",
      "1/1 [==============================] - 0s 47ms/step\n",
      "No Beep\n",
      "1/1 [==============================] - 0s 49ms/step\n",
      "No Beep\n",
      "1/1 [==============================] - 0s 48ms/step\n",
      "No Beep\n",
      "1/1 [==============================] - 0s 49ms/step\n",
      "No Beep\n",
      "1/1 [==============================] - 0s 47ms/step\n",
      "No Beep\n",
      "1/1 [==============================] - 0s 48ms/step\n",
      "No Beep\n",
      "1/1 [==============================] - 0s 50ms/step\n",
      "No Beep\n",
      "1/1 [==============================] - 0s 48ms/step\n",
      "No Beep\n",
      "1/1 [==============================] - 0s 48ms/step\n",
      "Beep\n",
      "1/1 [==============================] - 0s 48ms/step\n",
      "Beep\n",
      "1/1 [==============================] - 0s 47ms/step\n",
      "Beep\n",
      "1/1 [==============================] - 0s 47ms/step\n",
      "Beep\n",
      "1/1 [==============================] - 0s 47ms/step\n",
      "Beep\n",
      "1/1 [==============================] - 0s 47ms/step\n",
      "Beep\n",
      "1/1 [==============================] - 0s 47ms/step\n",
      "Beep\n",
      "1/1 [==============================] - 0s 49ms/step\n",
      "Beep\n",
      "1/1 [==============================] - 0s 48ms/step\n",
      "Beep\n",
      "1/1 [==============================] - 0s 50ms/step\n",
      "Beep\n",
      "1/1 [==============================] - 0s 48ms/step\n",
      "Beep\n",
      "1/1 [==============================] - 0s 48ms/step\n",
      "Beep\n",
      "1/1 [==============================] - 0s 51ms/step\n",
      "Beep\n",
      "1/1 [==============================] - 0s 50ms/step\n",
      "Beep\n",
      "1/1 [==============================] - 0s 49ms/step\n",
      "Beep\n",
      "1/1 [==============================] - 0s 47ms/step\n",
      "Beep\n",
      "1/1 [==============================] - 0s 49ms/step\n",
      "Beep\n",
      "1/1 [==============================] - 0s 48ms/step\n",
      "No Beep\n",
      "1/1 [==============================] - 0s 48ms/step\n",
      "No Beep\n",
      "1/1 [==============================] - 0s 48ms/step\n",
      "No Beep\n",
      "1/1 [==============================] - 0s 49ms/step\n",
      "No Beep\n",
      "1/1 [==============================] - 0s 49ms/step\n",
      "No Beep\n",
      "1/1 [==============================] - 0s 47ms/step\n",
      "No Beep\n",
      "1/1 [==============================] - 0s 47ms/step\n",
      "No Beep\n",
      "1/1 [==============================] - 0s 47ms/step\n",
      "No Beep\n",
      "1/1 [==============================] - 0s 48ms/step\n",
      "Beep\n",
      "1/1 [==============================] - 0s 53ms/step\n",
      "No Beep\n",
      "1/1 [==============================] - 0s 54ms/step\n",
      "Beep\n",
      "1/1 [==============================] - 0s 49ms/step\n",
      "Beep\n",
      "1/1 [==============================] - 0s 48ms/step\n",
      "Beep\n",
      "1/1 [==============================] - 0s 49ms/step\n",
      "Beep\n",
      "1/1 [==============================] - 0s 47ms/step\n",
      "Beep\n",
      "1/1 [==============================] - 0s 48ms/step\n",
      "Beep\n",
      "1/1 [==============================] - 0s 50ms/step\n",
      "Beep\n",
      "1/1 [==============================] - 0s 48ms/step\n",
      "Beep\n",
      "1/1 [==============================] - 0s 48ms/step\n",
      "Beep\n",
      "1/1 [==============================] - 0s 47ms/step\n",
      "Beep\n",
      "1/1 [==============================] - 0s 49ms/step\n",
      "Beep\n",
      "1/1 [==============================] - 0s 50ms/step\n",
      "Beep\n",
      "1/1 [==============================] - 0s 48ms/step\n",
      "Beep\n",
      "1/1 [==============================] - 0s 52ms/step\n",
      "Beep\n",
      "1/1 [==============================] - 0s 47ms/step\n",
      "Beep\n",
      "1/1 [==============================] - 0s 48ms/step\n",
      "Beep\n",
      "1/1 [==============================] - 0s 49ms/step\n",
      "Beep\n",
      "1/1 [==============================] - 0s 49ms/step\n",
      "Beep\n",
      "1/1 [==============================] - 0s 51ms/step\n",
      "Beep\n",
      "1/1 [==============================] - 0s 49ms/step\n",
      "Beep\n",
      "1/1 [==============================] - 0s 48ms/step\n",
      "Beep\n",
      "1/1 [==============================] - 0s 49ms/step\n",
      "Beep\n",
      "1/1 [==============================] - 0s 47ms/step\n",
      "No Beep\n",
      "1/1 [==============================] - 0s 47ms/step\n",
      "No Beep\n",
      "1/1 [==============================] - 0s 49ms/step\n",
      "No Beep\n",
      "1/1 [==============================] - 0s 49ms/step\n",
      "No Beep\n",
      "1/1 [==============================] - 0s 48ms/step\n",
      "No Beep\n",
      "1/1 [==============================] - 0s 52ms/step\n",
      "No Beep\n",
      "1/1 [==============================] - 0s 48ms/step\n",
      "No Beep\n",
      "1/1 [==============================] - 0s 49ms/step\n",
      "No Beep\n",
      "1/1 [==============================] - 0s 48ms/step\n",
      "No Beep\n",
      "1/1 [==============================] - 0s 49ms/step\n",
      "No Beep\n",
      "1/1 [==============================] - 0s 49ms/step\n",
      "No Beep\n",
      "1/1 [==============================] - 0s 48ms/step\n",
      "No Beep\n",
      "1/1 [==============================] - 0s 49ms/step\n",
      "No Beep\n",
      "1/1 [==============================] - 0s 49ms/step\n",
      "No Beep\n",
      "1/1 [==============================] - 0s 49ms/step\n",
      "No Beep\n",
      "1/1 [==============================] - 0s 51ms/step\n",
      "No Beep\n",
      "1/1 [==============================] - 0s 50ms/step\n",
      "No Beep\n",
      "1/1 [==============================] - 0s 48ms/step\n",
      "No Beep\n",
      "1/1 [==============================] - 0s 49ms/step\n",
      "No Beep\n",
      "1/1 [==============================] - 0s 50ms/step\n",
      "No Beep\n",
      "1/1 [==============================] - 0s 48ms/step\n",
      "No Beep\n",
      "1/1 [==============================] - 0s 49ms/step\n",
      "No Beep\n",
      "1/1 [==============================] - 0s 51ms/step\n",
      "No Beep\n",
      "1/1 [==============================] - 0s 49ms/step\n",
      "No Beep\n",
      "1/1 [==============================] - 0s 50ms/step\n",
      "No Beep\n",
      "1/1 [==============================] - 0s 50ms/step\n",
      "No Beep\n",
      "1/1 [==============================] - 0s 49ms/step\n",
      "No Beep\n",
      "1/1 [==============================] - 0s 48ms/step\n",
      "No Beep\n",
      "1/1 [==============================] - 0s 49ms/step\n",
      "No Beep\n",
      "1/1 [==============================] - 0s 49ms/step\n",
      "No Beep\n",
      "1/1 [==============================] - 0s 50ms/step\n",
      "No Beep\n",
      "1/1 [==============================] - 0s 48ms/step\n",
      "No Beep\n",
      "1/1 [==============================] - 0s 50ms/step\n",
      "No Beep\n",
      "1/1 [==============================] - 0s 49ms/step\n",
      "No Beep\n",
      "1/1 [==============================] - 0s 49ms/step\n",
      "No Beep\n",
      "1/1 [==============================] - 0s 49ms/step\n",
      "No Beep\n",
      "1/1 [==============================] - 0s 50ms/step\n",
      "No Beep\n",
      "1/1 [==============================] - 0s 48ms/step\n",
      "No Beep\n",
      "1/1 [==============================] - 0s 47ms/step\n",
      "No Beep\n",
      "1/1 [==============================] - 0s 48ms/step\n",
      "No Beep\n",
      "1/1 [==============================] - 0s 48ms/step\n",
      "No Beep\n",
      "1/1 [==============================] - 0s 49ms/step\n",
      "No Beep\n",
      "1/1 [==============================] - 0s 50ms/step\n",
      "No Beep\n",
      "1/1 [==============================] - 0s 48ms/step\n",
      "No Beep\n",
      "1/1 [==============================] - 0s 50ms/step\n",
      "No Beep\n",
      "1/1 [==============================] - 0s 51ms/step\n",
      "No Beep\n",
      "1/1 [==============================] - 0s 48ms/step\n",
      "No Beep\n",
      "1/1 [==============================] - 0s 51ms/step\n",
      "No Beep\n",
      "1/1 [==============================] - 0s 48ms/step\n",
      "No Beep\n",
      "1/1 [==============================] - 0s 50ms/step\n",
      "No Beep\n",
      "1/1 [==============================] - 0s 48ms/step\n",
      "No Beep\n",
      "1/1 [==============================] - 0s 49ms/step\n",
      "No Beep\n",
      "1/1 [==============================] - 0s 47ms/step\n",
      "No Beep\n",
      "1/1 [==============================] - 0s 49ms/step\n",
      "No Beep\n",
      "1/1 [==============================] - 0s 48ms/step\n",
      "No Beep\n",
      "1/1 [==============================] - 0s 50ms/step\n",
      "No Beep\n",
      "1/1 [==============================] - 0s 48ms/step\n",
      "No Beep\n",
      "1/1 [==============================] - 0s 48ms/step\n",
      "No Beep\n",
      "1/1 [==============================] - 0s 49ms/step\n",
      "No Beep\n",
      "1/1 [==============================] - 0s 47ms/step\n",
      "No Beep\n",
      "1/1 [==============================] - 0s 47ms/step\n",
      "No Beep\n",
      "1/1 [==============================] - 0s 48ms/step\n",
      "No Beep\n",
      "1/1 [==============================] - 0s 48ms/step\n",
      "No Beep\n",
      "1/1 [==============================] - 0s 48ms/step\n",
      "No Beep\n",
      "1/1 [==============================] - 0s 51ms/step\n",
      "No Beep\n",
      "1/1 [==============================] - 0s 47ms/step\n",
      "No Beep\n",
      "1/1 [==============================] - 0s 48ms/step\n",
      "No Beep\n",
      "1/1 [==============================] - 0s 52ms/step\n",
      "No Beep\n",
      "1/1 [==============================] - 0s 47ms/step\n",
      "No Beep\n",
      "1/1 [==============================] - 0s 49ms/step\n",
      "Beep\n",
      "1/1 [==============================] - 0s 48ms/step\n",
      "Beep\n",
      "1/1 [==============================] - 0s 51ms/step\n",
      "Beep\n",
      "1/1 [==============================] - 0s 54ms/step\n",
      "Beep\n",
      "1/1 [==============================] - 0s 54ms/step\n",
      "Beep\n",
      "1/1 [==============================] - 0s 56ms/step\n",
      "Beep\n",
      "1/1 [==============================] - 0s 51ms/step\n",
      "Beep\n",
      "1/1 [==============================] - 0s 56ms/step\n",
      "Beep\n",
      "1/1 [==============================] - 0s 53ms/step\n",
      "Beep\n",
      "1/1 [==============================] - 0s 52ms/step\n",
      "Beep\n",
      "1/1 [==============================] - 0s 63ms/step\n",
      "Beep\n",
      "1/1 [==============================] - 0s 48ms/step\n",
      "Beep\n",
      "1/1 [==============================] - 0s 52ms/step\n",
      "Beep\n",
      "1/1 [==============================] - 0s 49ms/step\n",
      "Beep\n",
      "1/1 [==============================] - 0s 48ms/step\n",
      "Beep\n",
      "1/1 [==============================] - 0s 49ms/step\n",
      "Beep\n",
      "1/1 [==============================] - 0s 52ms/step\n",
      "Beep\n"
     ]
    }
   ],
   "source": [
    "from keras.models import load_model\n",
    "import cv2\n",
    "import numpy as np\n",
    "\n",
    "\n",
    "\n",
    "from pygame import mixer\n",
    "mixer.init()\n",
    "sound = mixer.Sound(r\"C:\\Users\\Dell\\Desktop\\Shojeb ML Projects\\CNN3\\FaceMask_detection_alarm.wav\")\n",
    "\n",
    "\n",
    "\n",
    "model = load_model('model-016.model')\n",
    "\n",
    "face_clsfr=cv2.CascadeClassifier('haarcascade_frontalface_default.xml')\n",
    "\n",
    "cap=cv2.VideoCapture(0)\n",
    "\n",
    "\n",
    "labels_dict={0:'MASK',1:'NO MASK'}\n",
    "color_dict={0:(0,255,0),1:(0,0,255)}\n",
    "  \n",
    "\n",
    "while(True):\n",
    "\n",
    "    ret,frame=cap.read()\n",
    "    gray=cv2.cvtColor(frame,cv2.COLOR_BGR2GRAY)\n",
    "    faces=face_clsfr.detectMultiScale(gray,1.3,5)  \n",
    "\n",
    "    for (x,y,w,h) in faces:\n",
    "    \n",
    "        face_img=gray[y:y+w,x:x+w]\n",
    "        resized=cv2.resize(face_img,(100,100))\n",
    "        normalized=resized/255.0\n",
    "        reshaped=np.reshape(normalized,(1,100,100,1))\n",
    "        result=model.predict(reshaped)\n",
    "\n",
    "        label=np.argmax(result,axis=1)[0]\n",
    "        \n",
    "        cv2.rectangle(frame,(x,y),(x+w,y+h),color_dict[label],4)\n",
    "        cv2.rectangle(frame,(x,y-40),(x+w,y),color_dict[label],4)\n",
    "        cv2.putText(frame, labels_dict[label], (x, y-10),cv2.FONT_ITALIC, 1,(255,255,255),4)\n",
    "        \n",
    "        if(labels_dict[label] =='MASK'):\n",
    "            print(\"No Beep\")\n",
    "        elif(labels_dict[label] =='NO MASK'):\n",
    "                sound.play()\n",
    "                print(\"Beep\") \n",
    "        \n",
    "    cv2.imshow('Mask Detection App',frame)\n",
    "    if cv2.waitKey(1) & 0xFF == ord('q'):\n",
    "        break\n",
    "cap.release()\n",
    "cv2.destroyAllWindows()\n",
    "\n",
    "\n"
   ]
  },
  {
   "cell_type": "code",
   "execution_count": null,
   "id": "dfc339a0",
   "metadata": {},
   "outputs": [],
   "source": []
  }
 ],
 "metadata": {
  "kernelspec": {
   "display_name": "Python 3 (ipykernel)",
   "language": "python",
   "name": "python3"
  },
  "language_info": {
   "codemirror_mode": {
    "name": "ipython",
    "version": 3
   },
   "file_extension": ".py",
   "mimetype": "text/x-python",
   "name": "python",
   "nbconvert_exporter": "python",
   "pygments_lexer": "ipython3",
   "version": "3.9.7"
  }
 },
 "nbformat": 4,
 "nbformat_minor": 5
}
